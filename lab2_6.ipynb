{
 "cells": [
  {
   "cell_type": "markdown",
   "id": "13565f3d",
   "metadata": {},
   "source": [
    "Задача 6 (1 балл). Файл mbox.txt содержит метаданные почтового сервера. Мы знаем, что строка с адресом автора письма начинается с \"From \". Найти адреса всех авторов сообщений и найти того из них, кто пишет больше всех писем.\n",
    "Исходный файл можно взять по ссылке: https://www.py4e.com/code3/mbox.txt\n",
    "Для создания локальной программы вы можете загрузить файл себе на компьютер. Либо можно выполнять это задание в Jupyter Notebook. Для загрузки данных можно использовать следующий код:"
   ]
  },
  {
   "cell_type": "code",
   "execution_count": null,
   "id": "62a15e16",
   "metadata": {},
   "outputs": [],
   "source": [
    "from collections import defaultdict\n",
    "\n",
    "with open('mbox.txt', 'r', encoding='utf-8') as file:\n",
    "    all_lines = file.readlines()\n",
    "\n",
    "author_counts = defaultdict(int)\n",
    "\n",
    "for line in all_lines:\n",
    "    if line.startswith('From '):\n",
    "        parts = line.split()\n",
    "        if len(parts) > 1:\n",
    "            email = parts[1]\n",
    "            author_counts[email] += 1\n",
    "\n",
    "if author_counts:\n",
    "    most_frequent_author = max(author_counts.items(), key=lambda x: x[1])\n",
    "    print(f\"Автор с наибольшим количеством писем: {most_frequent_author[0]}\")\n",
    "    print(f\"Количество писем: {most_frequent_author[1]}\")\n",
    "else:\n",
    "    print(\"Письма не найдены\")"
   ]
  }
 ],
 "metadata": {
  "language_info": {
   "name": "python"
  }
 },
 "nbformat": 4,
 "nbformat_minor": 5
}
