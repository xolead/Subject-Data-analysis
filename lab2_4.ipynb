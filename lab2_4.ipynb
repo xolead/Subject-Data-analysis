{
 "cells": [
  {
   "cell_type": "code",
   "execution_count": 1,
   "metadata": {},
   "outputs": [],
   "source": [
    "names = list(map(str, input().split()))\n",
    "quantity = int(input())\n",
    "expenses = {}\n",
    "for i in range(len(names)):\n",
    "    expenses[names[i]] = 0\n",
    "for _ in range(quantity):\n",
    "    name, money_spend = input().split()\n",
    "    money_spend = int(money_spend)\n",
    "    expenses[name] += money_spend\n",
    "\n"
   ]
  },
  {
   "cell_type": "code",
   "execution_count": 2,
   "metadata": {},
   "outputs": [],
   "source": [
    "def average_value():\n",
    "    total_sum = 0\n",
    "    for name in expenses:\n",
    "        total_sum += expenses[name]\n",
    "    average = total_sum / len(names)\n",
    "    return round(average, 2)"
   ]
  },
  {
   "cell_type": "code",
   "execution_count": 3,
   "metadata": {},
   "outputs": [],
   "source": [
    "\n",
    "def distribution_cred_debt(average_val):\n",
    "    creditors = []\n",
    "    debtors = []\n",
    "    for name in names:\n",
    "        balance = expenses[name] - average_val\n",
    "        if balance > 0:\n",
    "            creditors.append((name, balance))\n",
    "        elif balance < 0:\n",
    "            debtors.append((name, -balance))\n",
    "    creditors.sort(key=lambda x: x[1], reverse=True)\n",
    "    debtors.sort(key=lambda x: x[1], reverse=True)\n",
    "    return creditors, debtors"
   ]
  },
  {
   "cell_type": "code",
   "execution_count": 4,
   "metadata": {},
   "outputs": [],
   "source": [
    "def transactions_all(creditors, debtors):\n",
    "    transactions = []\n",
    "    i = j = 0\n",
    "    while i < len(creditors) and j < len(debtors):\n",
    "        creditor, credit_amount = creditors[i]\n",
    "        debtor, debt_amount = debtors[j]\n",
    "\n",
    "        transfer_amount = min(credit_amount, debt_amount)\n",
    "        \n",
    "        transactions.append((debtor, creditor, round(transfer_amount, 2)))\n",
    "        creditors[i] = (creditor, credit_amount - transfer_amount)\n",
    "        debtors[j] = (debtor, debt_amount - transfer_amount)\n",
    "        if creditors[i][1] < 1e-9:\n",
    "            i += 1\n",
    "        if debtors[j][1] < 1e-9:\n",
    "            j += 1\n",
    "    return transactions\n"
   ]
  },
  {
   "cell_type": "code",
   "execution_count": 5,
   "metadata": {},
   "outputs": [
    {
     "name": "stdout",
     "output_type": "stream",
     "text": [
      "2\n",
      "Igor Ivan 266.67\n",
      "Aleksej Ivan 166.66\n"
     ]
    }
   ],
   "source": [
    "\n",
    "result = average_value()\n",
    "creditors, debtors = distribution_cred_debt(result)\n",
    "result = transactions_all(creditors, debtors)\n",
    "print(len(result))\n",
    "for debtor, creditor, amount in result:\n",
    "    print(f\"{debtor} {creditor} {amount:.2f}\")"
   ]
  }
 ],
 "metadata": {
  "kernelspec": {
   "display_name": "Python 3",
   "language": "python",
   "name": "python3"
  },
  "language_info": {
   "codemirror_mode": {
    "name": "ipython",
    "version": 3
   },
   "file_extension": ".py",
   "mimetype": "text/x-python",
   "name": "python",
   "nbconvert_exporter": "python",
   "pygments_lexer": "ipython3",
   "version": "3.13.0"
  }
 },
 "nbformat": 4,
 "nbformat_minor": 2
}
